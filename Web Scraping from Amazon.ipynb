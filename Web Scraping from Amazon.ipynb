{
 "cells": [
  {
   "cell_type": "code",
   "execution_count": 62,
   "id": "9009d2d3",
   "metadata": {},
   "outputs": [],
   "source": [
    "# import libraries \n",
    "\n",
    "from bs4 import BeautifulSoup\n",
    "import requests\n",
    "import time\n",
    "import datetime\n",
    "\n",
   ]
  },
  {
   "cell_type": "code",
   "execution_count": 63,
   "id": "7cd59012",
   "metadata": {},
   "outputs": [
    {
     "name": "stdout",
     "output_type": "stream",
     "text": [
      "        Apple iPhone 13, 128GB, Blue - Unlocked (Renewed)       \n"
     ]
    }
   ],
   "source": [
    "# Connecting to Website and pulling in data\n",
    "\n",
    "URL = 'https://www.amazon.com/Apple-iPhone-13-128GB-Blue/dp/B09LNX6KQS/ref=sr_1_2?crid=2Q480P9M1UST9&keywords=iphone13&qid=1653841994&sprefix=iphone13%2Caps%2C271&sr=8-2&th=1'\n",
    "headers = {\"User-Agent\": \"Mozilla/5.0 (Windows NT 10.0; Win64; x64) AppleWebKit/537.36 (KHTML, like Gecko) Chrome/78.0.3904.108 Safari/537.36\", \"Accept-Encoding\":\"gzip, deflate\", \"Accept\":\"text/html,application/xhtml+xml,application/xml;q=0.9,*/*;q=0.8\", \"DNT\":\"1\",\"Connection\":\"close\", \"Upgrade-Insecure-Requests\":\"1\"}\n",
    "\n",
    "page = requests.get(URL, headers=headers)\n",
    "\n",
    "soup1 = BeautifulSoup(page.content, \"html.parser\")\n",
    "\n",
    "title = soup1.find(id = \"productTitle\").get_text()\n",
    "\n",
    "print(title)"
   ]
  },
  {
   "cell_type": "code",
   "execution_count": 64,
   "id": "8dd85317",
   "metadata": {},
   "outputs": [
    {
     "name": "stdout",
     "output_type": "stream",
     "text": [
      "\n",
      "  Price: $789.97$789.97 \n",
      "\n",
      "\n",
      "\n",
      "\n",
      "\n",
      "\n",
      "\n",
      "\n",
      "\n",
      "\n",
      " \n",
      "\n",
      " \n",
      "\n",
      "\n",
      "\n",
      "   \n"
     ]
    }
   ],
   "source": [
    "#Fetching Price Data\n",
    "\n",
    "price = soup1.find(id='corePrice_desktop').get_text()\n",
    "print(price)\n"
   ]
  },
  {
   "cell_type": "code",
   "execution_count": null,
   "id": "8f2211bf",
   "metadata": {},
   "outputs": [],
   "source": []
  },
  {
   "cell_type": "code",
   "execution_count": 65,
   "id": "07dbab5c",
   "metadata": {},
   "outputs": [
    {
     "name": "stdout",
     "output_type": "stream",
     "text": [
      "\n",
      "  4.5 out of 5 stars    \n"
     ]
    }
   ],
   "source": [
    "# Fetching Ratings\n",
    "ratings = soup1.find( id ='acrPopover').get_text()\n",
    "print(ratings)"
   ]
  },
  {
   "cell_type": "code",
   "execution_count": 66,
   "id": "f3506224",
   "metadata": {},
   "outputs": [
    {
     "name": "stdout",
     "output_type": "stream",
     "text": [
      "Apple iPhone 13, 128GB, Blue - Unlocked (Renewed)\n",
      "4.5 \n",
      "789.97\n"
     ]
    }
   ],
   "source": [
    "# Data Cleaning \n",
    "\n",
    "Title = title.strip()\n",
    "Price = price.strip()[8:14]\n",
    "Ratings = ratings.strip()[:4]\n",
    "\n",
    "print(Title)\n",
    "print(Ratings)\n",
    "print(Price)"
   ]
  },
  {
   "cell_type": "code",
   "execution_count": 67,
   "id": "c16095ad",
   "metadata": {},
   "outputs": [],
   "source": [
    "# Creating CSV file\n",
    "\n",
    "import csv\n",
    "\n",
    "header = ['PRODUCT', 'RATING', 'PRICE']\n",
    "data = [Title, Ratings,Price]\n",
    "\n",
    "#with open('AmazonWebScrapedData.csv', 'w', newline ='', encoding= 'UTF8' ) as f:\n",
    "    #writer = csv.writer(f)\n",
    "   # writer.writerow (header)\n",
    "   # writer.writerow (data)\n",
    "    "
   ]
  },
  {
   "cell_type": "code",
   "execution_count": 68,
   "id": "c00ce886",
   "metadata": {},
   "outputs": [
    {
     "name": "stdout",
     "output_type": "stream",
     "text": [
      "                                               PRODUCT  RATING   PRICE\n",
      "0    Apple iPhone 13, 128GB, Blue - Unlocked (Renewed)     4.5  769.00\n",
      "1    Apple iPhone 13, 128GB, Blue - Unlocked (Renewed)     4.5  769.00\n",
      "2    Apple iPhone 13, 128GB, Blue - Unlocked (Renewed)     4.5  769.00\n",
      "3    Apple iPhone 13, 128GB, Blue - Unlocked (Renewed)     4.5  4.97$7\n",
      "4    Apple iPhone 13, 128GB, Blue - Unlocked (Renewed)     4.5  4.97$7\n",
      "..                                                 ...     ...     ...\n",
      "109  Apple iPhone 13, 128GB, Blue - Unlocked (Renewed)     4.5  4.97$7\n",
      "110  Apple iPhone 13, 128GB, Blue - Unlocked (Renewed)     4.5  4.97$7\n",
      "111  Apple iPhone 13, 128GB, Blue - Unlocked (Renewed)     4.5  4.97$7\n",
      "112  Apple iPhone 13, 128GB, Blue - Unlocked (Renewed)     4.5  4.97$7\n",
      "113  Apple iPhone 13, 128GB, Blue - Unlocked (Renewed)     4.5  4.97$7\n",
      "\n",
      "[114 rows x 3 columns]\n"
     ]
    }
   ],
   "source": [
    "# Creating Dataframe \n",
    "\n",
    "import pandas as pd\n",
    "\n",
    "df = pd.read_csv ('AmazonWebScrapedData.csv')\n",
    "print(df)"
   ]
  },
  {
   "cell_type": "code",
   "execution_count": 69,
   "id": "76ac63ed",
   "metadata": {},
   "outputs": [],
   "source": [
    "#Appending the Data to the CSV File\n",
    "\n",
    "with open('AmazonWebScrapedData.csv', 'a+', newline ='', encoding= 'UTF8' ) as f:\n",
    "    writer = csv.writer(f)\n",
    "    writer.writerow (data)\n"
   ]
  },
  {
   "cell_type": "code",
   "execution_count": 70,
   "id": "b25bed70",
   "metadata": {},
   "outputs": [],
   "source": [
    "\n",
    "def check_data():\n",
    "    URL = 'https://www.amazon.com/Apple-iPhone-13-128GB-Blue/dp/B09LNX6KQS/ref=sr_1_2?crid=2Q480P9M1UST9&keywords=iphone13&qid=1653841994&sprefix=iphone13%2Caps%2C271&sr=8-2&th=1'\n",
    "    headers = {\"User-Agent\": \"Mozilla/5.0 (Windows NT 10.0; Win64; x64) AppleWebKit/537.36 (KHTML, like Gecko) Chrome/78.0.3904.108 Safari/537.36\", \"Accept-Encoding\":\"gzip, deflate\", \"Accept\":\"text/html,application/xhtml+xml,application/xml;q=0.9,*/*;q=0.8\", \"DNT\":\"1\",\"Connection\":\"close\", \"Upgrade-Insecure-Requests\":\"1\"}\n",
    "\n",
    "    page = requests.get(URL, headers=headers)\n",
    "\n",
    "    soup1 = BeautifulSoup(page.content, \"html.parser\")\n",
    "\n",
    "    title = soup1.find(id = \"productTitle\").get_text()\n",
    "    price = soup1.find(id='corePrice_desktop').get_text()\n",
    "    ratings = soup1.find( id ='acrPopover').get_text()\n",
    "    \n",
    "    \n",
    "    Title = title.strip()\n",
    "    Price = price.strip()[8:14]\n",
    "    Ratings = ratings.strip()[:4]\n",
    "\n",
    "    import csv\n",
    "\n",
    "    header = ['PRODUCT', 'RATING', 'PRICE']\n",
    "    data = [Title, Ratings,Price]\n",
    "    \n",
    "    with open('AmazonWebScrapedData.csv', 'a+', newline ='', encoding= 'UTF8' ) as f:\n",
    "        writer = csv.writer(f)\n",
    "        writer.writerow (data)\n",
    "\n",
    "    \n",
    "    \n",
    "\n"
   ]
  },
  {
   "cell_type": "code",
   "execution_count": null,
   "id": "b40ee3c9",
   "metadata": {},
   "outputs": [],
   "source": [
    "while(True):\n",
    "    check_data()\n",
    "    time.sleep(5)"
   ]
  },
  {
   "cell_type": "code",
   "execution_count": 71,
   "id": "696400ae",
   "metadata": {},
   "outputs": [
    {
     "name": "stdout",
     "output_type": "stream",
     "text": [
      "                                               PRODUCT  RATING   PRICE\n",
      "0    Apple iPhone 13, 128GB, Blue - Unlocked (Renewed)     4.5  769.00\n",
      "1    Apple iPhone 13, 128GB, Blue - Unlocked (Renewed)     4.5  769.00\n",
      "2    Apple iPhone 13, 128GB, Blue - Unlocked (Renewed)     4.5  769.00\n",
      "3    Apple iPhone 13, 128GB, Blue - Unlocked (Renewed)     4.5  4.97$7\n",
      "4    Apple iPhone 13, 128GB, Blue - Unlocked (Renewed)     4.5  4.97$7\n",
      "..                                                 ...     ...     ...\n",
      "110  Apple iPhone 13, 128GB, Blue - Unlocked (Renewed)     4.5  4.97$7\n",
      "111  Apple iPhone 13, 128GB, Blue - Unlocked (Renewed)     4.5  4.97$7\n",
      "112  Apple iPhone 13, 128GB, Blue - Unlocked (Renewed)     4.5  4.97$7\n",
      "113  Apple iPhone 13, 128GB, Blue - Unlocked (Renewed)     4.5  4.97$7\n",
      "114  Apple iPhone 13, 128GB, Blue - Unlocked (Renewed)     4.5  789.97\n",
      "\n",
      "[115 rows x 3 columns]\n"
     ]
    }
   ],
   "source": [
    "df = pd.read_csv ('AmazonWebScrapedData.csv')\n",
    "print(df)"
   ]
  },
  {
   "cell_type": "code",
   "execution_count": null,
   "id": "9dbe5910",
   "metadata": {},
   "outputs": [],
   "source": []
  }
 ],
 "metadata": {
  "kernelspec": {
   "display_name": "Python 3 (ipykernel)",
   "language": "python",
   "name": "python3"
  },
  "language_info": {
   "codemirror_mode": {
    "name": "ipython",
    "version": 3
   },
   "file_extension": ".py",
   "mimetype": "text/x-python",
   "name": "python",
   "nbconvert_exporter": "python",
   "pygments_lexer": "ipython3",
   "version": "3.9.7"
  }
 },
 "nbformat": 4,
 "nbformat_minor": 5
}
